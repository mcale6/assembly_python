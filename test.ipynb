{
 "cells": [
  {
   "cell_type": "code",
   "execution_count": 1,
   "metadata": {},
   "outputs": [],
   "source": [
    "from assembly_python.assembly import process_input_file, assembly, format_pathway_output\n",
    "from assembly_python.utils.molecules import MoleculeHandler"
   ]
  },
  {
   "cell_type": "code",
   "execution_count": 4,
   "metadata": {},
   "outputs": [
    {
     "name": "stdout",
     "output_type": "stream",
     "text": [
      "Running on file: input\n",
      "\n",
      "ORIGINAL GRAPH\n",
      "+++++++++++++++\n",
      "Graph(vertices=[0, 1, 2, 3, 4, 5, 6, 7, 8, 9, 10, 11, 12], edges=[(0, 5), (1, 2), (1, 3), (2, 4), (3, 6), (4, 7), (5, 9), (5, 12), (6, 7), (6, 8), (7, 12), (8, 10), (8, 11)], vertex_colors=['C', 'C', 'C', 'C', 'C', 'C', 'C', 'C', 'C', 'O', 'O', 'O', 'O'], edge_colors=['single', 'aromatic', 'aromatic', 'aromatic', 'aromatic', 'aromatic', 'double', 'single', 'aromatic', 'single', 'single', 'double', 'single'])\n",
      "+++++++++++++++\n",
      "\n",
      "PATHWAY\n",
      "======\n",
      "Graph(vertices=[1, 3, 6, 7], edges=[(1, 3), (3, 6), (6, 7)], vertex_colors=['C', 'C', 'C', 'C'], edge_colors=['aromatic', 'aromatic', 'aromatic'])\n",
      "======\n",
      "======\n",
      "Graph(vertices=[0, 5, 9, 12], edges=[(0, 5), (5, 9), (5, 12)], vertex_colors=['C', 'C', 'O', 'O'], edge_colors=['single', 'double', 'single'])\n",
      "======\n",
      "----------\n",
      "Remnant Graph\n",
      "Graph(vertices=[7, 12, 1, 2, 4, 13, 6, 8, 10, 11], edges=[(7, 12), (1, 2), (2, 4), (4, 13), (6, 8), (8, 10), (8, 11)], vertex_colors=['C', 'O', 'C', 'C', 'C', 'C', 'C', 'C', 'O', 'O'], edge_colors=['single', 'aromatic', 'aromatic', 'aromatic', 'single', 'double', 'single'])\n",
      "----------\n",
      "Duplicated Edges\n",
      "Duplicates(left=[(1, 3), (3, 6), (6, 7)], right=[(1, 2), (2, 4), (4, 7)])\n",
      "Duplicates(left=[(0, 5), (5, 9), (5, 12)], right=[(6, 8), (8, 10), (8, 11)])\n",
      "+++++++++++++++\n",
      "\n",
      "Assembly Index: 8\n",
      "CPU times: user 37 ms, sys: 1.37 ms, total: 38.3 ms\n",
      "Wall time: 37.4 ms\n"
     ]
    }
   ],
   "source": [
    "graph = MoleculeHandler.from_inchi(\"InChI=1S/C9H8O4/c1-6(10)13-8-5-3-2-4-7(8)9(11)12/h2-5H,1H3,(H,11,12)\")\n",
    "pathways = assembly(graph, variant=\"shortest\") # {\"shortest\", \"all_shortest\", \"all\"}\n",
    "print(format_pathway_output(pathways[0], graph, verbose=True))"
   ]
  },
  {
   "cell_type": "code",
   "execution_count": 14,
   "metadata": {},
   "outputs": [
    {
     "data": {
      "text/plain": [
       "[Pathway(pathway=[], remnant=Graph(vertices=[0, 1, 2, 3, 4, 5, 6, 7, 8, 9, 10, 11, 12], edges=[(0, 5), (1, 2), (1, 3), (2, 4), (3, 6), (4, 7), (5, 9), (5, 12), (6, 7), (6, 8), (7, 12), (8, 10), (8, 11)], vertex_colors=['C', 'C', 'C', 'C', 'C', 'C', 'C', 'C', 'C', 'O', 'O', 'O', 'O'], edge_colors=['single', 'aromatic', 'aromatic', 'aromatic', 'aromatic', 'aromatic', 'double', 'single', 'aromatic', 'single', 'single', 'double', 'single']), duplicates=[], atom_equivalents=[])]"
      ]
     },
     "execution_count": 14,
     "metadata": {},
     "output_type": "execute_result"
    }
   ],
   "source": [
    "pathways"
   ]
  },
  {
   "cell_type": "code",
   "execution_count": 4,
   "metadata": {},
   "outputs": [
    {
     "name": "stdout",
     "output_type": "stream",
     "text": [
      "Test 1 - Same colored paths: True\n",
      "Test 2 - Different colors: False\n",
      "Test 3 - Different but isomorphic topology: True\n",
      "Test 4 - Reversed edges: True\n",
      "Test 5 - Cyclic vs linear: False\n"
     ]
    }
   ],
   "source": [
    "from assembly_python.core.graph import Graph\n",
    "from assembly_python.core.canonical import graph_is_isomorphic\n",
    "\n",
    "def test_isomorphism():\n",
    "    # Test 1: Simple path graphs with same colors\n",
    "    g1 = Graph(\n",
    "        vertices=[0, 1, 2],\n",
    "        edges=[(0, 1), (1, 2)],\n",
    "        vertex_colors=['C', 'C', 'C'],\n",
    "        edge_colors=['single', 'double']\n",
    "    )\n",
    "\n",
    "    g2 = Graph(\n",
    "        vertices=[5, 6, 7],\n",
    "        edges=[(5, 6), (6, 7)],\n",
    "        vertex_colors=['C', 'C', 'C'],\n",
    "        edge_colors=['single', 'double']\n",
    "    )\n",
    "\n",
    "    print(\"Test 1 - Same colored paths:\", graph_is_isomorphic(g1, g2))  # True\n",
    "\n",
    "    # Test 2: Different vertex colors\n",
    "    g3 = Graph(\n",
    "        vertices=[0, 1, 2],\n",
    "        edges=[(0, 1), (1, 2)],\n",
    "        vertex_colors=['C', 'O', 'C'],\n",
    "        edge_colors=['single', 'double']\n",
    "    )\n",
    "\n",
    "    print(\"Test 2 - Different colors:\", graph_is_isomorphic(g1, g3))  # False\n",
    "\n",
    "    # Test 3: Same colors and isomorphic topology (path vs. star are isomorphic for 3 nodes)\n",
    "    g4 = Graph(\n",
    "        vertices=[0, 1, 2],\n",
    "        edges=[(0, 1), (0, 2)],\n",
    "        vertex_colors=['C', 'C', 'C'],\n",
    "        edge_colors=['single', 'double']\n",
    "    )\n",
    "\n",
    "    print(\"Test 3 - Different but isomorphic topology:\", graph_is_isomorphic(g1, g4))  # True\n",
    "\n",
    "    # Test 4: Same structure and colors in different order\n",
    "    g5 = Graph(\n",
    "        vertices=[7, 8, 9],\n",
    "        edges=[(8, 7), (9, 8)],\n",
    "        vertex_colors=['C', 'C', 'C'],\n",
    "        edge_colors=['double', 'single']\n",
    "    )\n",
    "\n",
    "    print(\"Test 4 - Reversed edges:\", graph_is_isomorphic(g1, g5))  # True\n",
    "\n",
    "    # Test 5: Cyclic vs linear (non-isomorphic)\n",
    "    g6 = Graph(\n",
    "        vertices=[0, 1, 2],\n",
    "        edges=[(0, 1), (1, 2), (2, 0)],\n",
    "        vertex_colors=['C', 'C', 'C'],\n",
    "        edge_colors=['single', 'double', 'single']\n",
    "    )\n",
    "\n",
    "    print(\"Test 5 - Cyclic vs linear:\", graph_is_isomorphic(g1, g6))  # False\n",
    "\n",
    "test_isomorphism()"
   ]
  },
  {
   "cell_type": "code",
   "execution_count": 3,
   "metadata": {},
   "outputs": [
    {
     "name": "stdout",
     "output_type": "stream",
     "text": [
      "\n",
      "Testing 'shortest' variant:\n",
      "========================================\n"
     ]
    },
    {
     "ename": "AttributeError",
     "evalue": "'tuple' object has no attribute 'copy'",
     "output_type": "error",
     "traceback": [
      "\u001b[0;31m---------------------------------------------------------------------------\u001b[0m",
      "\u001b[0;31mAttributeError\u001b[0m                            Traceback (most recent call last)",
      "Cell \u001b[0;32mIn[3], line 21\u001b[0m\n\u001b[1;32m     18\u001b[0m         \u001b[38;5;28mprint\u001b[39m(\u001b[38;5;124m\"\u001b[39m\u001b[38;5;124m-\u001b[39m\u001b[38;5;124m\"\u001b[39m \u001b[38;5;241m*\u001b[39m \u001b[38;5;241m20\u001b[39m)\n\u001b[1;32m     19\u001b[0m         \u001b[38;5;28mprint\u001b[39m(format_pathway_output(pathway, graph, verbose\u001b[38;5;241m=\u001b[39m\u001b[38;5;28;01mTrue\u001b[39;00m))\n\u001b[0;32m---> 21\u001b[0m \u001b[43mtest_assembly_variants\u001b[49m\u001b[43m(\u001b[49m\u001b[43m)\u001b[49m\n",
      "Cell \u001b[0;32mIn[3], line 8\u001b[0m, in \u001b[0;36mtest_assembly_variants\u001b[0;34m()\u001b[0m\n\u001b[1;32m      6\u001b[0m \u001b[38;5;28mprint\u001b[39m(\u001b[38;5;124m\"\u001b[39m\u001b[38;5;130;01m\\n\u001b[39;00m\u001b[38;5;124mTesting \u001b[39m\u001b[38;5;124m'\u001b[39m\u001b[38;5;124mshortest\u001b[39m\u001b[38;5;124m'\u001b[39m\u001b[38;5;124m variant:\u001b[39m\u001b[38;5;124m\"\u001b[39m)\n\u001b[1;32m      7\u001b[0m \u001b[38;5;28mprint\u001b[39m(\u001b[38;5;124m\"\u001b[39m\u001b[38;5;124m=\u001b[39m\u001b[38;5;124m\"\u001b[39m \u001b[38;5;241m*\u001b[39m \u001b[38;5;241m40\u001b[39m)\n\u001b[0;32m----> 8\u001b[0m pathways \u001b[38;5;241m=\u001b[39m \u001b[43massembly\u001b[49m\u001b[43m(\u001b[49m\u001b[43mgraph\u001b[49m\u001b[43m,\u001b[49m\u001b[43m \u001b[49m\u001b[43mvariant\u001b[49m\u001b[38;5;241;43m=\u001b[39;49m\u001b[38;5;124;43m\"\u001b[39;49m\u001b[38;5;124;43mshortest\u001b[39;49m\u001b[38;5;124;43m\"\u001b[39;49m\u001b[43m)\u001b[49m\n\u001b[1;32m      9\u001b[0m \u001b[38;5;28;01mif\u001b[39;00m pathways:\n\u001b[1;32m     10\u001b[0m     \u001b[38;5;28mprint\u001b[39m(format_pathway_output(pathways[\u001b[38;5;241m0\u001b[39m], graph, verbose\u001b[38;5;241m=\u001b[39m\u001b[38;5;28;01mTrue\u001b[39;00m))\n",
      "File \u001b[0;32m~/Documents/Repos/assembly_python/src/assembly_python/assembly.py:66\u001b[0m, in \u001b[0;36massembly\u001b[0;34m(graph, variant)\u001b[0m\n\u001b[1;32m     59\u001b[0m algorithm_map \u001b[38;5;241m=\u001b[39m {\n\u001b[1;32m     60\u001b[0m     \u001b[38;5;124m\"\u001b[39m\u001b[38;5;124mshortest\u001b[39m\u001b[38;5;124m\"\u001b[39m: extend_pathway_shortest,\n\u001b[1;32m     61\u001b[0m     \u001b[38;5;124m\"\u001b[39m\u001b[38;5;124mall_shortest\u001b[39m\u001b[38;5;124m\"\u001b[39m: extend_pathway_all_shortest,\n\u001b[1;32m     62\u001b[0m     \u001b[38;5;124m\"\u001b[39m\u001b[38;5;124mall\u001b[39m\u001b[38;5;124m\"\u001b[39m: extend_pathway_all\n\u001b[1;32m     63\u001b[0m }\n\u001b[1;32m     65\u001b[0m extend_pathway \u001b[38;5;241m=\u001b[39m algorithm_map[variant]\n\u001b[0;32m---> 66\u001b[0m \u001b[43mextend_pathway\u001b[49m\u001b[43m(\u001b[49m\u001b[43minit_pathway\u001b[49m\u001b[43m,\u001b[49m\u001b[43m \u001b[49m\u001b[43mbest_pathways\u001b[49m\u001b[43m,\u001b[49m\u001b[43m \u001b[49m\u001b[43mgraph\u001b[49m\u001b[43m)\u001b[49m\n\u001b[1;32m     68\u001b[0m \u001b[38;5;28;01mreturn\u001b[39;00m best_pathways\n",
      "File \u001b[0;32m~/Documents/Repos/assembly_python/src/assembly_python/algorithms/shortest.py:129\u001b[0m, in \u001b[0;36mextend_pathway\u001b[0;34m(current_pathway, best_pathways, original_graph)\u001b[0m\n\u001b[1;32m    127\u001b[0m subgraph, remnant \u001b[38;5;241m=\u001b[39m current_pathway\u001b[38;5;241m.\u001b[39mremnant\u001b[38;5;241m.\u001b[39mbreak_graph_on_edges(sub)\n\u001b[1;32m    128\u001b[0m \u001b[38;5;28;01mif\u001b[39;00m \u001b[38;5;28mlen\u001b[39m(sub) \u001b[38;5;241m>\u001b[39m \u001b[38;5;241m1\u001b[39m:\n\u001b[0;32m--> 129\u001b[0m     match \u001b[38;5;241m=\u001b[39m \u001b[43mcheck_subgraph_matches\u001b[49m\u001b[43m(\u001b[49m\u001b[43mcurrent_pathway\u001b[49m\u001b[43m,\u001b[49m\u001b[43m \u001b[49m\u001b[43mbest_pathways\u001b[49m\u001b[43m,\u001b[49m\n\u001b[1;32m    130\u001b[0m \u001b[43m                                 \u001b[49m\u001b[43moriginal_graph\u001b[49m\u001b[43m,\u001b[49m\u001b[43m \u001b[49m\u001b[43msubgraph\u001b[49m\u001b[43m,\u001b[49m\u001b[43m \u001b[49m\u001b[43mremnant\u001b[49m\u001b[43m)\u001b[49m\n\u001b[1;32m    131\u001b[0m     \u001b[38;5;28;01mif\u001b[39;00m match:\n\u001b[1;32m    132\u001b[0m         \u001b[38;5;28;01mcontinue\u001b[39;00m\n",
      "File \u001b[0;32m~/Documents/Repos/assembly_python/src/assembly_python/algorithms/shortest.py:70\u001b[0m, in \u001b[0;36mcheck_subgraph_matches\u001b[0;34m(current_pathway, best_pathways, original_graph, subgraph, remnant)\u001b[0m\n\u001b[1;32m     67\u001b[0m                 best_pathways[\u001b[38;5;241m0\u001b[39m] \u001b[38;5;241m=\u001b[39m new_pathway\n\u001b[1;32m     69\u001b[0m             \u001b[38;5;66;03m# Continue search with new pathway\u001b[39;00m\n\u001b[0;32m---> 70\u001b[0m             \u001b[43mextend_pathway\u001b[49m\u001b[43m(\u001b[49m\u001b[43mnew_pathway\u001b[49m\u001b[43m,\u001b[49m\u001b[43m \u001b[49m\u001b[43mbest_pathways\u001b[49m\u001b[43m,\u001b[49m\u001b[43m \u001b[49m\u001b[43moriginal_graph\u001b[49m\u001b[43m)\u001b[49m\n\u001b[1;32m     71\u001b[0m     \u001b[38;5;28;01mcontinue\u001b[39;00m\n\u001b[1;32m     73\u001b[0m \u001b[38;5;66;03m# Backtracking\u001b[39;00m\n",
      "File \u001b[0;32m~/Documents/Repos/assembly_python/src/assembly_python/algorithms/shortest.py:129\u001b[0m, in \u001b[0;36mextend_pathway\u001b[0;34m(current_pathway, best_pathways, original_graph)\u001b[0m\n\u001b[1;32m    127\u001b[0m subgraph, remnant \u001b[38;5;241m=\u001b[39m current_pathway\u001b[38;5;241m.\u001b[39mremnant\u001b[38;5;241m.\u001b[39mbreak_graph_on_edges(sub)\n\u001b[1;32m    128\u001b[0m \u001b[38;5;28;01mif\u001b[39;00m \u001b[38;5;28mlen\u001b[39m(sub) \u001b[38;5;241m>\u001b[39m \u001b[38;5;241m1\u001b[39m:\n\u001b[0;32m--> 129\u001b[0m     match \u001b[38;5;241m=\u001b[39m \u001b[43mcheck_subgraph_matches\u001b[49m\u001b[43m(\u001b[49m\u001b[43mcurrent_pathway\u001b[49m\u001b[43m,\u001b[49m\u001b[43m \u001b[49m\u001b[43mbest_pathways\u001b[49m\u001b[43m,\u001b[49m\n\u001b[1;32m    130\u001b[0m \u001b[43m                                 \u001b[49m\u001b[43moriginal_graph\u001b[49m\u001b[43m,\u001b[49m\u001b[43m \u001b[49m\u001b[43msubgraph\u001b[49m\u001b[43m,\u001b[49m\u001b[43m \u001b[49m\u001b[43mremnant\u001b[49m\u001b[43m)\u001b[49m\n\u001b[1;32m    131\u001b[0m     \u001b[38;5;28;01mif\u001b[39;00m match:\n\u001b[1;32m    132\u001b[0m         \u001b[38;5;28;01mcontinue\u001b[39;00m\n",
      "File \u001b[0;32m~/Documents/Repos/assembly_python/src/assembly_python/algorithms/shortest.py:48\u001b[0m, in \u001b[0;36mcheck_subgraph_matches\u001b[0;34m(current_pathway, best_pathways, original_graph, subgraph, remnant)\u001b[0m\n\u001b[1;32m     45\u001b[0m match \u001b[38;5;241m=\u001b[39m \u001b[38;5;28;01mTrue\u001b[39;00m\n\u001b[1;32m     47\u001b[0m \u001b[38;5;66;03m# Create new pathway with this match\u001b[39;00m\n\u001b[0;32m---> 48\u001b[0m new_pathway \u001b[38;5;241m=\u001b[39m \u001b[43mcurrent_pathway\u001b[49m\u001b[38;5;241;43m.\u001b[39;49m\u001b[43mcopy\u001b[49m\u001b[43m(\u001b[49m\u001b[43m)\u001b[49m\n\u001b[1;32m     49\u001b[0m new_pathway\u001b[38;5;241m.\u001b[39mpathway\u001b[38;5;241m.\u001b[39mappend(subgraph\u001b[38;5;241m.\u001b[39mcopy())\n\u001b[1;32m     51\u001b[0m \u001b[38;5;66;03m# Add duplicate record\u001b[39;00m\n",
      "File \u001b[0;32m~/Documents/Repos/assembly_python/src/assembly_python/pathway/pathway.py:72\u001b[0m, in \u001b[0;36mPathway.copy\u001b[0;34m(self)\u001b[0m\n\u001b[1;32m     68\u001b[0m \u001b[38;5;28;01mdef\u001b[39;00m\u001b[38;5;250m \u001b[39m\u001b[38;5;21mcopy\u001b[39m(\u001b[38;5;28mself\u001b[39m) \u001b[38;5;241m-\u001b[39m\u001b[38;5;241m>\u001b[39m \u001b[38;5;124m'\u001b[39m\u001b[38;5;124mPathway\u001b[39m\u001b[38;5;124m'\u001b[39m:\n\u001b[1;32m     69\u001b[0m     \u001b[38;5;28;01mreturn\u001b[39;00m Pathway(\n\u001b[1;32m     70\u001b[0m         pathway\u001b[38;5;241m=\u001b[39m[g\u001b[38;5;241m.\u001b[39mcopy() \u001b[38;5;28;01mfor\u001b[39;00m g \u001b[38;5;129;01min\u001b[39;00m \u001b[38;5;28mself\u001b[39m\u001b[38;5;241m.\u001b[39mpathway],\n\u001b[1;32m     71\u001b[0m         remnant\u001b[38;5;241m=\u001b[39m\u001b[38;5;28mself\u001b[39m\u001b[38;5;241m.\u001b[39mremnant\u001b[38;5;241m.\u001b[39mcopy(),\n\u001b[0;32m---> 72\u001b[0m         duplicates\u001b[38;5;241m=\u001b[39m[\u001b[43md\u001b[49m\u001b[38;5;241;43m.\u001b[39;49m\u001b[43mcopy\u001b[49m() \u001b[38;5;28;01mfor\u001b[39;00m d \u001b[38;5;129;01min\u001b[39;00m \u001b[38;5;28mself\u001b[39m\u001b[38;5;241m.\u001b[39mduplicates],\n\u001b[1;32m     73\u001b[0m         atom_equivalents\u001b[38;5;241m=\u001b[39m[ae\u001b[38;5;241m.\u001b[39mcopy() \u001b[38;5;28;01mfor\u001b[39;00m ae \u001b[38;5;129;01min\u001b[39;00m \u001b[38;5;28mself\u001b[39m\u001b[38;5;241m.\u001b[39matom_equivalents]\n\u001b[1;32m     74\u001b[0m     )\n",
      "\u001b[0;31mAttributeError\u001b[0m: 'tuple' object has no attribute 'copy'"
     ]
    }
   ],
   "source": [
    "def test_assembly_variants():\n",
    "    # Create graph from InChI\n",
    "    inchi = \"InChI=1S/C9H8O4/c1-6(10)13-8-5-3-2-4-7(8)9(11)12/h2-5H,1H3,(H,11,12)\"\n",
    "    graph = MoleculeHandler.from_inchi(inchi)\n",
    "    \n",
    "    print(\"\\nTesting 'shortest' variant:\")\n",
    "    print(\"=\" * 40)\n",
    "    pathways = assembly(graph, variant=\"shortest\")\n",
    "    if pathways:\n",
    "        print(format_pathway_output(pathways[0], graph, verbose=True))\n",
    "    \n",
    "    print(\"\\nTesting 'all_shortest' variant:\")\n",
    "    print(\"=\" * 40)\n",
    "    pathways = assembly(graph, variant=\"all_shortest\")\n",
    "    print(f\"Found {len(pathways)} pathways\\n\")\n",
    "    for i, pathway in enumerate(pathways):\n",
    "        print(f\"\\nPathway {i+1}:\")\n",
    "        print(\"-\" * 20)\n",
    "        print(format_pathway_output(pathway, graph, verbose=True))\n",
    "\n",
    "test_assembly_variants()"
   ]
  },
  {
   "cell_type": "code",
   "execution_count": null,
   "metadata": {},
   "outputs": [],
   "source": []
  }
 ],
 "metadata": {
  "kernelspec": {
   "display_name": "assembly_env",
   "language": "python",
   "name": "python3"
  },
  "language_info": {
   "codemirror_mode": {
    "name": "ipython",
    "version": 3
   },
   "file_extension": ".py",
   "mimetype": "text/x-python",
   "name": "python",
   "nbconvert_exporter": "python",
   "pygments_lexer": "ipython3",
   "version": "3.13.1"
  }
 },
 "nbformat": 4,
 "nbformat_minor": 2
}
