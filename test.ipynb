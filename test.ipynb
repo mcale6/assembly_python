{
 "cells": [
  {
   "cell_type": "code",
   "execution_count": 3,
   "metadata": {},
   "outputs": [],
   "source": [
    "from assembly_python.assembly import process_input_file, assembly, format_pathway_output\n",
    "from assembly_python.utils.molecules import MoleculeHandler"
   ]
  },
  {
   "cell_type": "code",
   "execution_count": 4,
   "metadata": {},
   "outputs": [
    {
     "name": "stdout",
     "output_type": "stream",
     "text": [
      "Original Graph:\n",
      "Vertices: [0, 1, 2, 3, 4, 5, 6, 7, 8, 9, 10, 11, 12]\n",
      "Edges: [(0, 1), (0, 2), (0, 3), (1, 4), (2, 5), (2, 6), (3, 10), (4, 7), (5, 7), (6, 8), (6, 9), (10, 11), (10, 12)]\n",
      "Vertex colors: ['C', 'C', 'C', 'O', 'C', 'C', 'C', 'C', 'O', 'O', 'C', 'O', 'C']\n",
      "Edge colors: ['aromatic', 'aromatic', 'single', 'aromatic', 'aromatic', 'single', 'single', 'aromatic', 'aromatic', 'double', 'single', 'double', 'single']\n",
      "\n",
      "Pathway Fragments:\n",
      "Remnant:\n",
      "Vertices: [0, 1, 2, 3, 4, 5, 6, 7, 8, 9, 10, 11, 12]\n",
      "Edges: [(0, 1), (0, 2), (0, 3), (1, 4), (2, 5), (2, 6), (3, 10), (4, 7), (5, 7), (6, 8), (6, 9), (10, 11), (10, 12)]\n",
      "Vertex colors: ['C', 'C', 'C', 'O', 'C', 'C', 'C', 'C', 'O', 'O', 'C', 'O', 'C']\n",
      "Edge colors: ['aromatic', 'aromatic', 'single', 'aromatic', 'aromatic', 'single', 'single', 'aromatic', 'aromatic', 'double', 'single', 'double', 'single']\n",
      "\n",
      "Duplicates:\n",
      "\n",
      "Atom Equivalences:\n",
      "\n",
      "Assembly Index: 12\n"
     ]
    }
   ],
   "source": [
    "graph =  process_input_file(\"/Users/alessio/Documents/Repos/assembly_python/src/assembly_python/tests/aspirin.mol\")\n",
    "pathways = assembly(graph, variant=\"shortest\") # {\"shortest\", \"all_shortest\", \"all\"}\n",
    "print(format_pathway_output(pathways[0], graph, verbose=True))"
   ]
  },
  {
   "cell_type": "code",
   "execution_count": 3,
   "metadata": {},
   "outputs": [
    {
     "name": "stdout",
     "output_type": "stream",
     "text": [
      "Original Graph:\n",
      "Vertices: [0, 1, 2, 3, 4, 5, 6, 7, 8, 9, 10, 11, 12]\n",
      "Edges: [(0, 5), (1, 2), (1, 3), (2, 4), (3, 6), (4, 7), (5, 9), (5, 12), (6, 7), (6, 8), (7, 12), (8, 10), (8, 11)]\n",
      "Vertex colors: ['C', 'C', 'C', 'C', 'C', 'C', 'C', 'C', 'C', 'O', 'O', 'O', 'O']\n",
      "Edge colors: ['single', 'aromatic', 'aromatic', 'aromatic', 'aromatic', 'aromatic', 'double', 'single', 'aromatic', 'single', 'single', 'double', 'single']\n",
      "\n",
      "Pathway Fragments:\n",
      "Remnant:\n",
      "Vertices: [0, 1, 2, 3, 4, 5, 6, 7, 8, 9, 10, 11, 12]\n",
      "Edges: [(0, 5), (1, 2), (1, 3), (2, 4), (3, 6), (4, 7), (5, 9), (5, 12), (6, 7), (6, 8), (7, 12), (8, 10), (8, 11)]\n",
      "Vertex colors: ['C', 'C', 'C', 'C', 'C', 'C', 'C', 'C', 'C', 'O', 'O', 'O', 'O']\n",
      "Edge colors: ['single', 'aromatic', 'aromatic', 'aromatic', 'aromatic', 'aromatic', 'double', 'single', 'aromatic', 'single', 'single', 'double', 'single']\n",
      "\n",
      "Duplicates:\n",
      "\n",
      "Atom Equivalences:\n",
      "\n",
      "Assembly Index: 0\n"
     ]
    }
   ],
   "source": [
    "graph = MoleculeHandler.from_inchi(\"InChI=1S/C9H8O4/c1-6(10)13-8-5-3-2-4-7(8)9(11)12/h2-5H,1H3,(H,11,12)\")\n",
    "pathways = assembly(graph, variant=\"shortest\") # {\"shortest\", \"all_shortest\", \"all\"}\n",
    "print(format_pathway_output(pathways[0], graph, verbose=True))"
   ]
  },
  {
   "cell_type": "code",
   "execution_count": 1,
   "metadata": {},
   "outputs": [],
   "source": [
    "from assembly_python.utils.molecules import MoleculeHandler\n",
    "from assembly_python.utils.graph import Graph\n",
    "from assembly_python.algorithms.canonical import graph_is_isomorphic\n",
    "\n",
    "def test_isomorphism():\n",
    "    # Test 1: Simple path graphs with same colors\n",
    "    g1 = Graph(\n",
    "        vertices=[0, 1, 2],\n",
    "        edges=[(0, 1), (1, 2)],\n",
    "        vertex_colors=['C', 'C', 'C'],\n",
    "        edge_colors=['single', 'double']\n",
    "    )\n",
    "\n",
    "    g2 = Graph(\n",
    "        vertices=[5, 6, 7],\n",
    "        edges=[(5, 6), (6, 7)],\n",
    "        vertex_colors=['C', 'C', 'C'],\n",
    "        edge_colors=['single', 'double']\n",
    "    )\n",
    "\n",
    "    print(\"Test 1 - Same colored paths:\", graph_is_isomorphic(g1, g2))  # True\n",
    "\n",
    "    # Test 2: Different vertex colors\n",
    "    g3 = Graph(\n",
    "        vertices=[0, 1, 2],\n",
    "        edges=[(0, 1), (1, 2)],\n",
    "        vertex_colors=['C', 'O', 'C'],\n",
    "        edge_colors=['single', 'double']\n",
    "    )\n",
    "\n",
    "    print(\"Test 2 - Different colors:\", graph_is_isomorphic(g1, g3))  # False\n",
    "\n",
    "    # Test 3: Same colors and isomorphic topology (path vs. star are isomorphic for 3 nodes)\n",
    "    g4 = Graph(\n",
    "        vertices=[0, 1, 2],\n",
    "        edges=[(0, 1), (0, 2)],\n",
    "        vertex_colors=['C', 'C', 'C'],\n",
    "        edge_colors=['single', 'double']\n",
    "    )\n",
    "\n",
    "    print(\"Test 3 - Different but isomorphic topology:\", graph_is_isomorphic(g1, g4))  # True\n",
    "\n",
    "    # Test 4: Same structure and colors in different order\n",
    "    g5 = Graph(\n",
    "        vertices=[7, 8, 9],\n",
    "        edges=[(8, 7), (9, 8)],\n",
    "        vertex_colors=['C', 'C', 'C'],\n",
    "        edge_colors=['double', 'single']\n",
    "    )\n",
    "\n",
    "    print(\"Test 4 - Reversed edges:\", graph_is_isomorphic(g1, g5))  # True\n",
    "\n",
    "    # Test 5: Cyclic vs linear (non-isomorphic)\n",
    "    g6 = Graph(\n",
    "        vertices=[0, 1, 2],\n",
    "        edges=[(0, 1), (1, 2), (2, 0)],\n",
    "        vertex_colors=['C', 'C', 'C'],\n",
    "        edge_colors=['single', 'double', 'single']\n",
    "    )\n",
    "\n",
    "    print(\"Test 5 - Cyclic vs linear:\", graph_is_isomorphic(g1, g6))  # False"
   ]
  },
  {
   "cell_type": "code",
   "execution_count": 2,
   "metadata": {},
   "outputs": [
    {
     "name": "stdout",
     "output_type": "stream",
     "text": [
      "Test 1 - Same colored paths: True\n",
      "Test 2 - Different colors: False\n",
      "Test 3 - Different but isomorphic topology: True\n",
      "Test 4 - Reversed edges: True\n",
      "Test 5 - Cyclic vs linear: False\n"
     ]
    }
   ],
   "source": [
    "test_isomorphism()"
   ]
  },
  {
   "cell_type": "code",
   "execution_count": null,
   "metadata": {},
   "outputs": [],
   "source": []
  }
 ],
 "metadata": {
  "kernelspec": {
   "display_name": "assembly_env",
   "language": "python",
   "name": "python3"
  },
  "language_info": {
   "codemirror_mode": {
    "name": "ipython",
    "version": 3
   },
   "file_extension": ".py",
   "mimetype": "text/x-python",
   "name": "python",
   "nbconvert_exporter": "python",
   "pygments_lexer": "ipython3",
   "version": "3.13.1"
  }
 },
 "nbformat": 4,
 "nbformat_minor": 2
}
